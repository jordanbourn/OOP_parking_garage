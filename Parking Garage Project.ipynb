{
 "cells": [
  {
   "cell_type": "markdown",
   "metadata": {},
   "source": [
    "# Parking Garage Project\n",
    "\n",
    "Your assignment for today is to create a parking garage class to get more familiar with Object Oriented Programming(OOP). \n",
    "\n",
    "Your parking gargage class should have the following methods:\n",
    "- takeTicket\n",
    "   - This should decrease the amount of tickets available by 1\n",
    "   - This should decrease the amount of parkingSpaces available by 1\n",
    "- payForParking\n",
    "   - Display an input that waits for an amount from the user and store it in a variable\n",
    "   - If the payment variable is not empty then ->  display a message to the user that their ticket has been paid and they have 15mins to leave\n",
    "   - This should update the \"currentTicket\" dictionary key \"paid\" to True\n",
    "-leaveGarage\n",
    "   - If the ticket has been paid, display a message of \"Thank You, have a nice day\"\n",
    "   - If the ticket has not been paid, display an input prompt for payment\n",
    "      - Once paid, display message \"Thank you, have a nice day!\"\n",
    "   - Update parkingSpaces list to increase by 1\n",
    "   - Update tickets list to increase by 1\n",
    "\n",
    "You will need a few attributes as well:\n",
    "- tickets -> list\n",
    "- parkingSpaces -> list\n",
    "- currentTicket -> dictionary"
   ]
  },
  {
   "cell_type": "code",
   "execution_count": null,
   "metadata": {},
   "outputs": [
    {
     "name": "stdout",
     "output_type": "stream",
     "text": [
      "Tickets Available: 5\n",
      "Parking Spaces Available: 5\n",
      "\n",
      "Take ticket? Yes/No\n",
      "no\n",
      "Tickets Available: 5\n",
      "Parking Spaces Available: 5\n",
      "\n",
      "Take ticket? Yes/No\n",
      "yes\n",
      "Please take your ticket. Thank you!\n",
      "\n",
      "Tickets Available: 4\n",
      "Parking Spaces Available: 4\n",
      "\n",
      "Please enter your payment amount:\n",
      "0\n",
      "Please enter your payment amount:\n",
      "0\n",
      "Please enter your payment amount:\n",
      "12\n",
      "Your ticket has been paid! You have 15 minutes to exit the garage.\n",
      "\n",
      "Tickets Available: 5\n",
      "Parking Spaces Available: 5\n",
      "\tThank you, have a nice day!\n",
      "Tickets Available: 5\n",
      "Parking Spaces Available: 5\n",
      "\n"
     ]
    }
   ],
   "source": [
    "tickets = [1,2,3,4,5]\n",
    "parking_spaces = [1,2,3,4,5]\n",
    "current_ticket = {'t':0,'p_s':0,'paid':True}\n",
    "\"\"\"it's a small parking garage.\"\"\"\n",
    "\n",
    "class ParkingGarage():\n",
    "    def __init__(self,tickets_available,parkingspots_available):\n",
    "        self.tickets_available = tickets\n",
    "        self.parkingspots_available = parking_spaces\n",
    "    def takeTicket(self):\n",
    "        print('Please take your ticket. Thank you!\\n')\n",
    "        current_ticket['paid'] = False\n",
    "        current_ticket['t'] = self.tickets_available.pop()\n",
    "        current_ticket['p_s'] = self.parkingspots_available.pop()\n",
    "        print('Tickets Available: ' + str(len(tickets)))\n",
    "        print('Parking Spaces Available: ' + str(len(parking_spaces)) + '\\n')\n",
    "    def payForParking(self):\n",
    "        payment_amount = input('Please enter your payment amount:\\n')\n",
    "        if int(payment_amount) > 0:\n",
    "            self.tickets_available.append(current_ticket['t'])\n",
    "            self.parkingspots_available.append(current_ticket['p_s'])\n",
    "            current_ticket['paid'] = True\n",
    "            print('Your ticket has been paid! You have 15 minutes to exit the garage.\\n')\n",
    "            print('Tickets Available: ' + str(len(tickets)))\n",
    "            print('Parking Spaces Available: ' + str(len(parking_spaces)) + '\\n\\tThank you, have a nice day!')\n",
    "        else:\n",
    "            self.payForParking()\n",
    "\n",
    "parking_garage = ParkingGarage(3,3)\n",
    "\n",
    "def parking_function():\n",
    "    \"\"\"This is the prompt you get when entering the parking garage.\"\"\"\n",
    "    print('Tickets Available: ' + str(len(tickets)))\n",
    "    print('Parking Spaces Available: ' + str(len(parking_spaces)) + '\\n')\n",
    "    user_input = input('Take ticket? Yes/No\\n')\n",
    "    while user_input.lower() != 'yes':\n",
    "        parking_function()\n",
    "    if user_input.lower() == 'yes':\n",
    "        parking_garage.takeTicket()\n",
    "        parking_garage.payForParking()\n",
    "\n",
    "parking_function()"
   ]
  },
  {
   "cell_type": "code",
   "execution_count": null,
   "metadata": {},
   "outputs": [],
   "source": []
  }
 ],
 "metadata": {
  "kernelspec": {
   "display_name": "Python 3 (ipykernel)",
   "language": "python",
   "name": "python3"
  },
  "language_info": {
   "codemirror_mode": {
    "name": "ipython",
    "version": 3
   },
   "file_extension": ".py",
   "mimetype": "text/x-python",
   "name": "python",
   "nbconvert_exporter": "python",
   "pygments_lexer": "ipython3",
   "version": "3.9.13"
  }
 },
 "nbformat": 4,
 "nbformat_minor": 2
}
